{
 "cells": [
  {
   "cell_type": "markdown",
   "id": "64854991-85ad-47ca-bf10-4c7377b35e7a",
   "metadata": {},
   "source": [
    "Welcome to Nil's Computational Notebook!"
   ]
  },
  {
   "cell_type": "markdown",
   "id": "c73a7afd-42f2-4ceb-847c-57b325135206",
   "metadata": {},
   "source": [
    "This will be used for me to apply my learning of python and more about generative ai usage."
   ]
  },
  {
   "cell_type": "code",
   "execution_count": 9,
   "id": "2f491639-f5c2-424a-bc4d-965335f2a94d",
   "metadata": {},
   "outputs": [
    {
     "name": "stdout",
     "output_type": "stream",
     "text": [
      "You might be wondering... so, what's an Occybyte? It's simple. \n",
      "It stands for occult byte.\n"
     ]
    }
   ],
   "source": [
    "print(\"Welcome to Nil's Computational Notebook\\n\")\n",
    "print(\"You might be wondering... so, what's an Occybyte? It's simple. \\nIt stands for occult byte.\")"
   ]
  },
  {
   "cell_type": "code",
   "execution_count": null,
   "id": "edb403d9-4674-42e7-9176-d0120f47deea",
   "metadata": {},
   "outputs": [],
   "source": []
  },
  {
   "cell_type": "code",
   "execution_count": null,
   "id": "023c5ebb-2186-45b2-9e43-1bfd02df1897",
   "metadata": {},
   "outputs": [],
   "source": []
  }
 ],
 "metadata": {
  "kernelspec": {
   "display_name": "Python 3 (ipykernel)",
   "language": "python",
   "name": "python3"
  },
  "language_info": {
   "codemirror_mode": {
    "name": "ipython",
    "version": 3
   },
   "file_extension": ".py",
   "mimetype": "text/x-python",
   "name": "python",
   "nbconvert_exporter": "python",
   "pygments_lexer": "ipython3",
   "version": "3.10.8"
  }
 },
 "nbformat": 4,
 "nbformat_minor": 5
}
