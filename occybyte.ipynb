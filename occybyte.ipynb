{
 "cells": [
  {
   "cell_type": "markdown",
   "id": "64854991-85ad-47ca-bf10-4c7377b35e7a",
   "metadata": {},
   "source": [
    "# Foreword, and onto learning about Zeus--I mean, Jupyter Notebook!"
   ]
  },
  {
   "cell_type": "markdown",
   "id": "c73a7afd-42f2-4ceb-847c-57b325135206",
   "metadata": {},
   "source": [
    "This will be used for me to apply my learning of python and more about generative ai usage."
   ]
  },
  {
   "cell_type": "code",
   "execution_count": 13,
   "id": "2f491639-f5c2-424a-bc4d-965335f2a94d",
   "metadata": {},
   "outputs": [
    {
     "name": "stdout",
     "output_type": "stream",
     "text": [
      "Welcome to Nil's Computational Notebook\n",
      "\n",
      "You might be wondering... so, what's an Occybyte? It's simple. \n",
      "It stands for occult byte.\n"
     ]
    }
   ],
   "source": [
    "print(\"Welcome to Nil's Computational Notebook\\n\")\n",
    "print(\"You might be wondering... so, what's an Occybyte? It's simple. \\nIt stands for occult byte.\")"
   ]
  },
  {
   "cell_type": "markdown",
   "id": "881ed3bc-9076-420d-9b22-223885d24f14",
   "metadata": {},
   "source": [
    "Here are the goals and objectives for using this are pretty simple, they are:\n",
    "* Learn how to create .ipynb files and correctly use them inside of this lovely IDE.\n",
    "* Learn how to integrate and use python code within' this-- had I known about this sooner...\n",
    "* Complete three projects that will use data collected from the Occybyte Division of the Nexus.\n",
    "    * Learn more about the Godless and Godliving dichtomy. (Includes: Interactive Map Creation, utilizing data visualization libraries.)\n",
    "    * Discover the increase in the arcane users within' the planet archeros.\n",
    "    * Troubleshoot asteriod and planet fracking and how we import and export these resources to realms in need.\n",
    "    * Create a sentiment and theme analysis model for understanding the recurring motifs and ideas from procured documents.\n",
    "    * Automated Lore Expansion of the Librarires of Xibir & perhaps likely, predictive plot development."
   ]
  },
  {
   "cell_type": "markdown",
   "id": "85cf3240-6251-471d-a3f8-a9b4d2dfc7dc",
   "metadata": {},
   "source": [
    "Truth is-- we can be here all day figuring out what to do and how will we do it; so, let's go to business!"
   ]
  },
  {
   "cell_type": "markdown",
   "id": "02dc85b1-cd85-4c1d-bb95-7fdbaeaf2438",
   "metadata": {},
   "source": [
    "```cs\n",
    "s = \"The ``` above and bottom, like on a discord is a great display of syntax highlighting.\"\n",
    "print(x)\n",
    "```"
   ]
  },
  {
   "cell_type": "code",
   "execution_count": null,
   "id": "0e14434d-82c4-40b7-9787-57b3c7418192",
   "metadata": {},
   "outputs": [],
   "source": []
  },
  {
   "cell_type": "code",
   "execution_count": null,
   "id": "21c64bd1-5c94-43d4-9299-d5c4d36983a9",
   "metadata": {},
   "outputs": [],
   "source": []
  },
  {
   "cell_type": "code",
   "execution_count": null,
   "id": "872ca711-f379-4b2c-a427-83a2906ebd7a",
   "metadata": {},
   "outputs": [],
   "source": []
  }
 ],
 "metadata": {
  "kernelspec": {
   "display_name": "Python 3 (ipykernel)",
   "language": "python",
   "name": "python3"
  },
  "language_info": {
   "codemirror_mode": {
    "name": "ipython",
    "version": 3
   },
   "file_extension": ".py",
   "mimetype": "text/x-python",
   "name": "python",
   "nbconvert_exporter": "python",
   "pygments_lexer": "ipython3",
   "version": "3.10.8"
  }
 },
 "nbformat": 4,
 "nbformat_minor": 5
}
