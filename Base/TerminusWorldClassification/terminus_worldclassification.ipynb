{
 "cells": [
  {
   "cell_type": "markdown",
   "id": "ca2f4cfe-2705-4408-af38-ac20edc64b95",
   "metadata": {},
   "source": [
    "# Terminus: Planet Classification Guidelines"
   ]
  },
  {
   "cell_type": "markdown",
   "id": "f57a54d5-e09f-4b8d-b442-a94478a198fa",
   "metadata": {},
   "source": [
    "In this notebook, we will briefly explain the Terminus Planet Classification and what it means as a whole. In this section, it will require some of the final data from the 'existence.ipynb' near the end from the picture that is generated. <br> In the Compendium Terminium, 2E, this is simply called the World Classification Tiers.\n",
    "\n",
    "At the end of this, I will create a generative ai, that will create a world; explain what all the world has and if it's in godless or godliving domain. Due to statistics however, there is one truth, much of what's generated <em> even if space is unknowingly, infinitely large </em> should remain godliving. That's one constraint found. <br>\n",
    "\n"
   ]
  },
  {
   "cell_type": "markdown",
   "id": "de4ff2a3-ead3-4013-8bf5-b84ad2b3e883",
   "metadata": {},
   "source": [
    "On the Terminus, we gives worlds a rating based on various scientific and reconnaise. There are a various levels to this that will actually be expanded."
   ]
  },
  {
   "cell_type": "markdown",
   "id": "5738cd7d-a72d-441b-af69-1f9cbeab040f",
   "metadata": {},
   "source": [
    "| Tier | Description: What makes it this tier, any other specialties   |\n",
    "|---|---|\n",
    "| F | Apocalyptic/Nuclear Ridden These could be Nuclear Wastelands, Zombie Ridden, Parasitic Growth, Virus Decimated such areas.|\n",
    "| S |  Archeros-like <br> Super garden worlds|\n",
    "| A |  Earth-like |\n",
    "| B |  Varying levels of hospitable |\n",
    "| W | Water and Ice Worlds  | \n",
    "| M |  General, Mineral / Ore-rich planets |\n",
    "| G | Garden worlds, anywhere from fungie or highly rich fertile lands  |"
   ]
  },
  {
   "cell_type": "markdown",
   "id": "c6e47b63-1234-4f9d-a385-3a3c684c9993",
   "metadata": {},
   "source": [
    "* Ice, water and garden planets are key and highly defended places—e.g.,\n",
    "\n",
    "If a space station or another planet with a diaster needs emergency water or in general coordination even with the Terminus. <br>WMG worlds can be highly beneficial and used for relief efforts. As such, it is only mined or farmed as needed rather than in abundance unless it's predicted that there would be a shortage."
   ]
  },
  {
   "cell_type": "markdown",
   "id": "2eb9cf5a-a244-4f4a-a9a8-defe4dfff551",
   "metadata": {},
   "source": [
    "Along with this, there is a rating that denotes whether or not a planet has arcane presence if the planet is habitable or not; it used to be the case where this is occuring in places with gods--but that's not the case. A correalaion between the arcane and mundanity hasn't truly been discovered."
   ]
  },
  {
   "cell_type": "code",
   "execution_count": 4,
   "id": "af5808b5-0017-4fc3-b289-7e4de113f46d",
   "metadata": {
    "scrolled": true
   },
   "outputs": [
    {
     "name": "stdout",
     "output_type": "stream",
     "text": [
      "Requirement already satisfied: openai in /usr/local/python/3.10.8/lib/python3.10/site-packages (0.28.1)\n",
      "Requirement already satisfied: requests>=2.20 in /home/codespace/.local/lib/python3.10/site-packages (from openai) (2.31.0)\n",
      "Requirement already satisfied: tqdm in /usr/local/python/3.10.8/lib/python3.10/site-packages (from openai) (4.66.1)\n",
      "Requirement already satisfied: aiohttp in /usr/local/python/3.10.8/lib/python3.10/site-packages (from openai) (3.8.6)\n",
      "Requirement already satisfied: charset-normalizer<4,>=2 in /home/codespace/.local/lib/python3.10/site-packages (from requests>=2.20->openai) (3.3.0)\n",
      "Requirement already satisfied: idna<4,>=2.5 in /home/codespace/.local/lib/python3.10/site-packages (from requests>=2.20->openai) (3.4)\n",
      "Requirement already satisfied: urllib3<3,>=1.21.1 in /home/codespace/.local/lib/python3.10/site-packages (from requests>=2.20->openai) (2.0.7)\n",
      "Requirement already satisfied: certifi>=2017.4.17 in /home/codespace/.local/lib/python3.10/site-packages (from requests>=2.20->openai) (2023.7.22)\n",
      "Requirement already satisfied: attrs>=17.3.0 in /home/codespace/.local/lib/python3.10/site-packages (from aiohttp->openai) (23.1.0)\n",
      "Requirement already satisfied: multidict<7.0,>=4.5 in /usr/local/python/3.10.8/lib/python3.10/site-packages (from aiohttp->openai) (6.0.4)\n",
      "Requirement already satisfied: async-timeout<5.0,>=4.0.0a3 in /usr/local/python/3.10.8/lib/python3.10/site-packages (from aiohttp->openai) (4.0.3)\n",
      "Requirement already satisfied: yarl<2.0,>=1.0 in /usr/local/python/3.10.8/lib/python3.10/site-packages (from aiohttp->openai) (1.9.2)\n",
      "Requirement already satisfied: frozenlist>=1.1.1 in /usr/local/python/3.10.8/lib/python3.10/site-packages (from aiohttp->openai) (1.4.0)\n",
      "Requirement already satisfied: aiosignal>=1.1.2 in /usr/local/python/3.10.8/lib/python3.10/site-packages (from aiohttp->openai) (1.3.1)\n",
      "Note: you may need to restart the kernel to use updated packages.\n"
     ]
    }
   ],
   "source": [
    "pip install openai"
   ]
  },
  {
   "cell_type": "code",
   "execution_count": 5,
   "id": "aa4e3176-8bc7-444f-8540-5636d0680001",
   "metadata": {
    "scrolled": true
   },
   "outputs": [
    {
     "data": {
      "text/plain": [
       "{'status': 'ok', 'restart': True}"
      ]
     },
     "execution_count": 5,
     "metadata": {},
     "output_type": "execute_result"
    }
   ],
   "source": [
    "# Restart kernel after installs so that your environment can access the new packages\n",
    "import IPython\n",
    "import time\n",
    "\n",
    "app = IPython.Application.instance()\n",
    "app.kernel.do_shutdown(True)"
   ]
  },
  {
   "cell_type": "code",
   "execution_count": 26,
   "id": "a1518194-59ad-404a-96b1-3c9d36ab55a2",
   "metadata": {},
   "outputs": [],
   "source": [
    "# going to use openAI using Python"
   ]
  },
  {
   "cell_type": "code",
   "execution_count": null,
   "id": "38af55ba-5132-45fb-ae3c-1b6d33dd3c39",
   "metadata": {},
   "outputs": [],
   "source": []
  },
  {
   "cell_type": "markdown",
   "id": "5f74605b-2d56-49ec-8b2b-ac77b713e554",
   "metadata": {},
   "source": [
    "Objectives:\n",
    "\n",
    "1. Generate a viable planet name or designation; using a ISO8601 format for the date + Planet Extension Code.\n",
    "2. Generate a description for the planet, the planet's name doesn't always have to match the description at all.\n",
    "3. The planet's tier must match the description.\n",
    "4. Designate whether the planet is in godless or godliving space; the constraint is that a percentage is Godless.\n",
    "\n",
    "Probably create faux lab test, pseudo samples? One thing to note is this is being created with a LLM, which doesn't do probabilties, but I can likely get away with that using Stanfords DSPy. As it's a framework for programming with language models."
   ]
  },
  {
   "cell_type": "code",
   "execution_count": 27,
   "id": "fed75f33-ce0d-4009-a063-269a70bf3a13",
   "metadata": {},
   "outputs": [],
   "source": [
    "# install stanford's DSPY: (https://github.com/stanfordnlp/dspy)\n",
    "\n",
    "# pip install dspy-ai -> put this into the Terminal\n",
    "# then import dspy"
   ]
  },
  {
   "cell_type": "code",
   "execution_count": 28,
   "id": "aff841b3-1c5d-47b3-a889-f005b649c1f1",
   "metadata": {},
   "outputs": [],
   "source": [
    "import dspy"
   ]
  },
  {
   "cell_type": "markdown",
   "id": "de08b783-fa0e-4720-a817-133f9c8b115d",
   "metadata": {},
   "source": [
    "An important thing to remember about LLMs and NLP is that they don't have the capacity to deal with probabilites. The great thing about standford DSPy is that it's a programming language that is for natural language processing; so, I will be able to use python to create a type of probability. <br> \n",
    "I know that I want to at this point have an 90% chance for one outcome being \"Godliving\" and a 10% chance for another outcome being \"Godless\". <br>\n",
    "To achieve this, I've decided for a list of 1s to be Godless and 0s to be Godliving. Then it will print the result, rag will take that result of that function and use it."
   ]
  },
  {
   "cell_type": "code",
   "execution_count": 29,
   "id": "f3971a70-b3f4-47e7-9784-d6ecebf7799d",
   "metadata": {},
   "outputs": [
    {
     "name": "stdout",
     "output_type": "stream",
     "text": [
      "Planet in domain of:\n",
      "Godless\n"
     ]
    }
   ],
   "source": [
    "import random\n",
    "\n",
    "def determine_existence():\n",
    "    # Create a list where 80% being (Godliving) are 0s and 20% being (Godless) are 1s\n",
    "    choices = [0] * 8 + [1] * 2 #8 being 90% and 2 being 10% works much better for the math though\n",
    "\n",
    "    # Randomly pick an element from the list\n",
    "    result = random.choice(choices)\n",
    "\n",
    "    # Print the corresponding outcome\n",
    "    if result == 0:\n",
    "        print(\"Godliving\")\n",
    "    else:\n",
    "        print (\"Godless\")\n",
    "\n",
    "print(\"Planet in domain of:\")\n",
    "determine_existence()\n"
   ]
  },
  {
   "cell_type": "markdown",
   "id": "b9e7e818-40c3-4627-874b-a7954e530f68",
   "metadata": {},
   "source": [
    "Next will be defining the parameters of what makes the planet, the tier for the planet must match the description and vice versa. So, I'm thinking it should have a another pass through to check to see if the sentiment is still correct. Importing datetime would be needed to create the ISO8601 planet code with the name that's generated.\n",
    "<br>\n",
    "After that, making the faux samples and such shouldn't be too much of an issue, but I will need to tune it towards actual minerals, geological samples and environmental readings but allow for a bit of rule of cool."
   ]
  },
  {
   "cell_type": "markdown",
   "id": "f323d7a4-3d07-45c2-923e-2bece60db31d",
   "metadata": {},
   "source": [
    "There is also another constraint, S & A Tier planets much be oxygen rich and so should G-Tier planets. G-Tier planets will need something else, likely, a pass with the geological samples and environmental reasons to show why its not a planet with a large amount of people. So, perhaps the planet can sustain vasts amount of flora and mushrooms but extensive biologicals can't yet evolve and stay for too long due to how dense the oxygen gen or how much of 'x' is in the environmental readings."
   ]
  },
  {
   "cell_type": "code",
   "execution_count": 30,
   "id": "254f9731-ffd0-445e-9263-c422e676e7ad",
   "metadata": {},
   "outputs": [
    {
     "name": "stdout",
     "output_type": "stream",
     "text": [
      "('Planet-20231117-482', 'Godliving', 'A', 'A beautiful Earth-like planet with diverse ecosystems.')\n"
     ]
    }
   ],
   "source": [
    "import datetime\n",
    "import random\n",
    "\n",
    "def determine_existence():\n",
    "    choices = [0] * 8 + [1] * 2\n",
    "    return random.choice(choices)\n",
    "\n",
    "def planet_parameters():\n",
    "    # Generate a planet name using the current date and a random code\n",
    "    current_date = datetime.datetime.now().strftime(\"%Y%m%d\")\n",
    "    planet_code = random.randint(100, 999)  # Random number between 100 and 999\n",
    "    planet_name = f\"Planet-{current_date}-{planet_code}\"\n",
    "\n",
    "    # Determine the planet type (godless or godliving)\n",
    "    planet_type = \"Godliving\" if determine_existence() == 0 else \"Godless\"\n",
    "\n",
    "    # Placeholder for planet tier and description - you can expand this\n",
    "    planet_tier = \"A\"  # Example tier\n",
    "    planet_description = \"A beautiful Earth-like planet with diverse ecosystems.\"\n",
    "\n",
    "    return planet_name, planet_type, planet_tier, planet_description\n",
    "\n",
    "# Example usage\n",
    "planet_info = planet_parameters()\n",
    "print(planet_info)\n"
   ]
  },
  {
   "cell_type": "markdown",
   "id": "c98672ee-3387-4a83-91e3-80c7399c76ef",
   "metadata": {},
   "source": [
    "The function works are predicted then, next the RAG will have to be implemented:\n",
    "determine_existence() will be passed as a keyword into the RAG model.\n",
    "\n",
    "I did see someone named Jon Saad-Falcon mention something about ARES (Automatic Evaluation Framework) for RAG. <br>So, I'll have to see what that's about later. (https://github.com/stanford-futuredata/ARES)"
   ]
  },
  {
   "cell_type": "code",
   "execution_count": 32,
   "id": "f16b2ae8-afa1-4eac-8199-4c5006da4aae",
   "metadata": {},
   "outputs": [],
   "source": [
    "# testing RAG will go here"
   ]
  },
  {
   "cell_type": "code",
   "execution_count": null,
   "id": "48b65b4f-6b1e-41f7-9fe4-b70a70f13cbb",
   "metadata": {},
   "outputs": [],
   "source": [
    "\n"
   ]
  },
  {
   "cell_type": "code",
   "execution_count": null,
   "id": "fe313157-c9d4-4568-96ad-95b8ee089224",
   "metadata": {},
   "outputs": [],
   "source": []
  }
 ],
 "metadata": {
  "kernelspec": {
   "display_name": "Python 3 (ipykernel)",
   "language": "python",
   "name": "python3"
  },
  "language_info": {
   "codemirror_mode": {
    "name": "ipython",
    "version": 3
   },
   "file_extension": ".py",
   "mimetype": "text/x-python",
   "name": "python",
   "nbconvert_exporter": "python",
   "pygments_lexer": "ipython3",
   "version": "3.10.8"
  }
 },
 "nbformat": 4,
 "nbformat_minor": 5
}
