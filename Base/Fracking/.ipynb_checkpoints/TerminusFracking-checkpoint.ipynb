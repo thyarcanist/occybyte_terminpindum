{
 "cells": [
  {
   "cell_type": "code",
   "execution_count": 1,
   "id": "91c534d3-0300-47d0-8feb-8840ab4ddf30",
   "metadata": {},
   "outputs": [
    {
     "name": "stdout",
     "output_type": "stream",
     "text": [
      "Requirement already satisfied: ipywidgets in /usr/local/python/3.12.1/lib/python3.12/site-packages (8.1.5)\n",
      "Requirement already satisfied: comm>=0.1.3 in /home/codespace/.local/lib/python3.12/site-packages (from ipywidgets) (0.2.2)\n",
      "Requirement already satisfied: ipython>=6.1.0 in /home/codespace/.local/lib/python3.12/site-packages (from ipywidgets) (8.26.0)\n",
      "Requirement already satisfied: traitlets>=4.3.1 in /home/codespace/.local/lib/python3.12/site-packages (from ipywidgets) (5.14.3)\n",
      "Requirement already satisfied: widgetsnbextension~=4.0.12 in /usr/local/python/3.12.1/lib/python3.12/site-packages (from ipywidgets) (4.0.13)\n",
      "Requirement already satisfied: jupyterlab-widgets~=3.0.12 in /usr/local/python/3.12.1/lib/python3.12/site-packages (from ipywidgets) (3.0.13)\n",
      "Requirement already satisfied: decorator in /home/codespace/.local/lib/python3.12/site-packages (from ipython>=6.1.0->ipywidgets) (5.1.1)\n",
      "Requirement already satisfied: jedi>=0.16 in /home/codespace/.local/lib/python3.12/site-packages (from ipython>=6.1.0->ipywidgets) (0.19.1)\n",
      "Requirement already satisfied: matplotlib-inline in /home/codespace/.local/lib/python3.12/site-packages (from ipython>=6.1.0->ipywidgets) (0.1.7)\n",
      "Requirement already satisfied: prompt-toolkit<3.1.0,>=3.0.41 in /home/codespace/.local/lib/python3.12/site-packages (from ipython>=6.1.0->ipywidgets) (3.0.47)\n",
      "Requirement already satisfied: pygments>=2.4.0 in /home/codespace/.local/lib/python3.12/site-packages (from ipython>=6.1.0->ipywidgets) (2.18.0)\n",
      "Requirement already satisfied: stack-data in /home/codespace/.local/lib/python3.12/site-packages (from ipython>=6.1.0->ipywidgets) (0.6.3)\n",
      "Requirement already satisfied: pexpect>4.3 in /home/codespace/.local/lib/python3.12/site-packages (from ipython>=6.1.0->ipywidgets) (4.9.0)\n",
      "Requirement already satisfied: parso<0.9.0,>=0.8.3 in /home/codespace/.local/lib/python3.12/site-packages (from jedi>=0.16->ipython>=6.1.0->ipywidgets) (0.8.4)\n",
      "Requirement already satisfied: ptyprocess>=0.5 in /home/codespace/.local/lib/python3.12/site-packages (from pexpect>4.3->ipython>=6.1.0->ipywidgets) (0.7.0)\n",
      "Requirement already satisfied: wcwidth in /home/codespace/.local/lib/python3.12/site-packages (from prompt-toolkit<3.1.0,>=3.0.41->ipython>=6.1.0->ipywidgets) (0.2.13)\n",
      "Requirement already satisfied: executing>=1.2.0 in /home/codespace/.local/lib/python3.12/site-packages (from stack-data->ipython>=6.1.0->ipywidgets) (2.0.1)\n",
      "Requirement already satisfied: asttokens>=2.1.0 in /home/codespace/.local/lib/python3.12/site-packages (from stack-data->ipython>=6.1.0->ipywidgets) (2.4.1)\n",
      "Requirement already satisfied: pure-eval in /home/codespace/.local/lib/python3.12/site-packages (from stack-data->ipython>=6.1.0->ipywidgets) (0.2.3)\n",
      "Requirement already satisfied: six>=1.12.0 in /home/codespace/.local/lib/python3.12/site-packages (from asttokens>=2.1.0->stack-data->ipython>=6.1.0->ipywidgets) (1.16.0)\n",
      "Note: you may need to restart the kernel to use updated packages.\n"
     ]
    }
   ],
   "source": [
    "pip install ipywidgets"
   ]
  },
  {
   "cell_type": "code",
   "execution_count": 1,
   "id": "e6e50e17-4743-4c17-9a47-3e5eccebc3a6",
   "metadata": {},
   "outputs": [
    {
     "ename": "SyntaxError",
     "evalue": "invalid syntax (4053252937.py, line 1)",
     "output_type": "error",
     "traceback": [
      "\u001b[0;36m  Cell \u001b[0;32mIn[1], line 1\u001b[0;36m\u001b[0m\n\u001b[0;31m    jupyter nbextension enable --py widgetsnbextension --sys-prefix\u001b[0m\n\u001b[0m            ^\u001b[0m\n\u001b[0;31mSyntaxError\u001b[0m\u001b[0;31m:\u001b[0m invalid syntax\n"
     ]
    }
   ],
   "source": [
    "jupyter nbextension enable --py widgetsnbextension --sys-prefix"
   ]
  },
  {
   "cell_type": "markdown",
   "id": "b2994ae2-a419-4450-9695-240c038c1de4",
   "metadata": {},
   "source": [
    "To Start with this project, we will define, create and categorize the planets. Each generated planet can be classified based on the tier system from your lorebook, and their parameters (mass, gravity, etc.) will be derived from realistic Earth-like or other solar system values with slight variations."
   ]
  },
  {
   "cell_type": "code",
   "execution_count": 1,
   "id": "c41745ba-5dd1-48a3-817a-a6acf9bece06",
   "metadata": {
    "scrolled": true
   },
   "outputs": [
    {
     "data": {
      "text/plain": [
       "{'Tier': 'M',\n",
       " 'Mass (10^24 kg)': 0.59,\n",
       " 'Gravity (m/s²)': 3.96,\n",
       " 'Diameter (km)': 7349.51,\n",
       " 'Resource Deposit (tons)': 138524,\n",
       " 'Depletion Rate (%)': 2.4761854117765645,\n",
       " 'Resource Type': 'Ore'}"
      ]
     },
     "execution_count": 1,
     "metadata": {},
     "output_type": "execute_result"
    }
   ],
   "source": [
    "import random\n",
    "\n",
    "# Base data from the SOL system (provided) as a reference\n",
    "planetary_data = {\n",
    "    'Mercury': {'Mass (10^24 kg)': 0.330, 'Gravity (m/s²)': 3.7, 'Diameter (km)': 4879},\n",
    "    'Venus': {'Mass (10^24 kg)': 4.87, 'Gravity (m/s²)': 8.9, 'Diameter (km)': 12104},\n",
    "    'Earth': {'Mass (10^24 kg)': 5.97, 'Gravity (m/s²)': 9.8, 'Diameter (km)': 12756},\n",
    "    'Mars': {'Mass (10^24 kg)': 0.642, 'Gravity (m/s²)': 3.7, 'Diameter (km)': 6792},\n",
    "    'Jupiter': {'Mass (10^24 kg)': 1898, 'Gravity (m/s²)': 23.1, 'Diameter (km)': 142984},\n",
    "    'Saturn': {'Mass (10^24 kg)': 568, 'Gravity (m/s²)': 9.0, 'Diameter (km)': 120536},\n",
    "    'Uranus': {'Mass (10^24 kg)': 86.8, 'Gravity (m/s²)': 8.7, 'Diameter (km)': 51118},\n",
    "    'Neptune': {'Mass (10^24 kg)': 102, 'Gravity (m/s²)': 11.0, 'Diameter (km)': 49528},\n",
    "    'Pluto': {'Mass (10^24 kg)': 0.013, 'Gravity (m/s²)': 0.7, 'Diameter (km)': 2376}\n",
    "}\n",
    "\n",
    "# Tier system based on lorebook data\n",
    "planet_tiers = {\n",
    "    'F': 'Apocalyptic/Nuclear Ridden',\n",
    "    'S': 'Archeros-like (Super Garden Worlds)',\n",
    "    'A': 'Earth Prime-like (Earth-like planets)',\n",
    "    'B': 'Varying Levels of Hospitable',\n",
    "    'W': 'Water and Ice Worlds',\n",
    "    'M': 'Mineral/Ore-rich planets',\n",
    "    'G': 'Garden Worlds'\n",
    "}\n",
    "\n",
    "# Function to generate a planet with variable values based on SOL system\n",
    "def generate_planet(reference_planet, tier):\n",
    "    def add_variability(value):\n",
    "        return round(value * random.uniform(0.9, 1.1), 2)\n",
    "    \n",
    "    return {\n",
    "        'Tier': tier,\n",
    "        'Mass (10^24 kg)': add_variability(planetary_data[reference_planet]['Mass (10^24 kg)']),\n",
    "        'Gravity (m/s²)': add_variability(planetary_data[reference_planet]['Gravity (m/s²)']),\n",
    "        'Diameter (km)': add_variability(planetary_data[reference_planet]['Diameter (km)']),\n",
    "        'Resource Deposit (tons)': random.randint(50000, 200000),\n",
    "        'Depletion Rate (%)': random.uniform(0.5, 5),\n",
    "        'Resource Type': random.choice(['Ore', 'Water', 'Gas', 'Minerals'])\n",
    "    }\n",
    "\n",
    "# Example: Generating a Mars-like planet in tier 'M' (Mineral/Ore-rich planet)\n",
    "generate_planet('Mars', 'M')\n"
   ]
  },
  {
   "cell_type": "markdown",
   "id": "fdc59c7f-45b8-48e9-ad5b-04c7a8a813b3",
   "metadata": {},
   "source": [
    "Using the factory pattern to generate an entire star system to be used."
   ]
  },
  {
   "cell_type": "code",
   "execution_count": 2,
   "id": "af109ec8-5084-4dcd-a859-f19cf9e7e684",
   "metadata": {
    "scrolled": true
   },
   "outputs": [
    {
     "data": {
      "text/plain": [
       "{'Planet-1': {'Tier': 'B',\n",
       "  'Mass (10^24 kg)': 6.5,\n",
       "  'Gravity (m/s²)': 10.36,\n",
       "  'Diameter (km)': 13211.09,\n",
       "  'Resource Deposit (tons)': 85967,\n",
       "  'Depletion Rate (%)': 1.5976413601188937,\n",
       "  'Resource Type': 'Minerals'},\n",
       " 'Planet-2': {'Tier': 'B',\n",
       "  'Mass (10^24 kg)': 102.19,\n",
       "  'Gravity (m/s²)': 10.12,\n",
       "  'Diameter (km)': 50192.71,\n",
       "  'Resource Deposit (tons)': 189666,\n",
       "  'Depletion Rate (%)': 4.082640256424726,\n",
       "  'Resource Type': 'Gas'},\n",
       " 'Planet-3': {'Tier': 'F',\n",
       "  'Mass (10^24 kg)': 0.32,\n",
       "  'Gravity (m/s²)': 3.87,\n",
       "  'Diameter (km)': 5096.19,\n",
       "  'Resource Deposit (tons)': 146089,\n",
       "  'Depletion Rate (%)': 2.5888030608437744,\n",
       "  'Resource Type': 'Gas'},\n",
       " 'Planet-4': {'Tier': 'F',\n",
       "  'Mass (10^24 kg)': 0.01,\n",
       "  'Gravity (m/s²)': 0.67,\n",
       "  'Diameter (km)': 2601.56,\n",
       "  'Resource Deposit (tons)': 70110,\n",
       "  'Depletion Rate (%)': 3.3721614522813708,\n",
       "  'Resource Type': 'Water'},\n",
       " 'Planet-5': {'Tier': 'W',\n",
       "  'Mass (10^24 kg)': 0.31,\n",
       "  'Gravity (m/s²)': 4.06,\n",
       "  'Diameter (km)': 4512.24,\n",
       "  'Resource Deposit (tons)': 77046,\n",
       "  'Depletion Rate (%)': 0.7357474524624797,\n",
       "  'Resource Type': 'Gas'}}"
      ]
     },
     "execution_count": 2,
     "metadata": {},
     "output_type": "execute_result"
    }
   ],
   "source": [
    "# Factory function to create multiple planets for a star system\n",
    "def generate_star_system(num_planets, planet_types):\n",
    "    star_system = {}\n",
    "    for i in range(num_planets):\n",
    "        reference_planet = random.choice(list(planetary_data.keys()))  # Randomly choose a base planet\n",
    "        tier = random.choice(list(planet_tiers.keys()))  # Randomly choose a tier\n",
    "        star_system[f\"Planet-{i+1}\"] = generate_planet(reference_planet, tier)\n",
    "    \n",
    "    return star_system\n",
    "\n",
    "# Generate a star system with 5 planets\n",
    "new_star_system = generate_star_system(5, planet_tiers)\n",
    "new_star_system\n"
   ]
  },
  {
   "cell_type": "markdown",
   "id": "df7ffae4-79e4-41fa-b21c-9b595ea1b415",
   "metadata": {},
   "source": [
    "New Resource Growth and Depletion Rates"
   ]
  },
  {
   "cell_type": "code",
   "execution_count": 3,
   "id": "f0ea03a8-72c5-4d68-a950-f29216d1de97",
   "metadata": {},
   "outputs": [
    {
     "data": {
      "text/plain": [
       "102269.18884299738"
      ]
     },
     "execution_count": 3,
     "metadata": {},
     "output_type": "execute_result"
    }
   ],
   "source": [
    "# Determine if a resource is renewable or non-renewable\n",
    "def is_renewable(resource_type):\n",
    "    return resource_type in ['Water', 'Gas']\n",
    "\n",
    "# Function to simulate growth for renewable resources\n",
    "def resource_growth(planet):\n",
    "    if is_renewable(planet['Resource Type']):\n",
    "        # Renewable resources grow by a percentage each cycle\n",
    "        growth_rate = random.uniform(1, 5)  # Growth percentage\n",
    "        planet['Resource Deposit (tons)'] += planet['Resource Deposit (tons)'] * (growth_rate / 100)\n",
    "    return planet['Resource Deposit (tons)']\n",
    "\n",
    "# Example: Applying growth to a water planet\n",
    "water_planet = generate_planet('Neptune', 'W')\n",
    "resource_growth(water_planet)\n"
   ]
  },
  {
   "cell_type": "markdown",
   "id": "f72ce53a-d828-4798-86e5-409ebdf51d33",
   "metadata": {},
   "source": [
    "For the world classification and mission type, we will load and utilize the terminus classification data, applying its world classifications and mission objectives to planet creation:"
   ]
  },
  {
   "cell_type": "code",
   "execution_count": null,
   "id": "88ee7a9f-b998-4b68-b594-5a4b14849384",
   "metadata": {},
   "outputs": [],
   "source": []
  },
  {
   "cell_type": "code",
   "execution_count": 4,
   "id": "2c3fcd83-9007-4581-b770-8361ccb2d848",
   "metadata": {},
   "outputs": [
    {
     "data": {
      "text/html": [
       "<div>\n",
       "<style scoped>\n",
       "    .dataframe tbody tr th:only-of-type {\n",
       "        vertical-align: middle;\n",
       "    }\n",
       "\n",
       "    .dataframe tbody tr th {\n",
       "        vertical-align: top;\n",
       "    }\n",
       "\n",
       "    .dataframe thead th {\n",
       "        text-align: right;\n",
       "    }\n",
       "</style>\n",
       "<table border=\"1\" class=\"dataframe\">\n",
       "  <thead>\n",
       "    <tr style=\"text-align: right;\">\n",
       "      <th></th>\n",
       "      <th>Tier</th>\n",
       "      <th>Description</th>\n",
       "      <th>Examples</th>\n",
       "    </tr>\n",
       "  </thead>\n",
       "  <tbody>\n",
       "    <tr>\n",
       "      <th>0</th>\n",
       "      <td>F</td>\n",
       "      <td>Apocalyptic/Nuclear Ridden - Avoided due to hi...</td>\n",
       "      <td>Nuclear Wastelands, Virus Decimated Planets</td>\n",
       "    </tr>\n",
       "    <tr>\n",
       "      <th>1</th>\n",
       "      <td>S</td>\n",
       "      <td>Archeros-like - Super garden worlds with abund...</td>\n",
       "      <td>Archeros, Other Garden Worlds</td>\n",
       "    </tr>\n",
       "    <tr>\n",
       "      <th>2</th>\n",
       "      <td>A</td>\n",
       "      <td>Earth Prime-like - Planets similar to Earth, h...</td>\n",
       "      <td>Earth, Terra-like planets</td>\n",
       "    </tr>\n",
       "    <tr>\n",
       "      <th>3</th>\n",
       "      <td>B</td>\n",
       "      <td>Varying Levels of Hospitable - Planets that re...</td>\n",
       "      <td>Partially Terraformable Planets</td>\n",
       "    </tr>\n",
       "    <tr>\n",
       "      <th>4</th>\n",
       "      <td>W</td>\n",
       "      <td>Water and Ice Worlds - Covered primarily in wa...</td>\n",
       "      <td>Neptune-like Planets, Frozen Worlds</td>\n",
       "    </tr>\n",
       "    <tr>\n",
       "      <th>5</th>\n",
       "      <td>M</td>\n",
       "      <td>Mineral/Ore-rich - Resource-rich planets, abun...</td>\n",
       "      <td>Mars-like planets with mineral abundance</td>\n",
       "    </tr>\n",
       "    <tr>\n",
       "      <th>6</th>\n",
       "      <td>G</td>\n",
       "      <td>Garden Worlds - Basic planets with thriving ec...</td>\n",
       "      <td>Flora-rich worlds, targeted for farming and co...</td>\n",
       "    </tr>\n",
       "  </tbody>\n",
       "</table>\n",
       "</div>"
      ],
      "text/plain": [
       "  Tier                                        Description  \\\n",
       "0    F  Apocalyptic/Nuclear Ridden - Avoided due to hi...   \n",
       "1    S  Archeros-like - Super garden worlds with abund...   \n",
       "2    A  Earth Prime-like - Planets similar to Earth, h...   \n",
       "3    B  Varying Levels of Hospitable - Planets that re...   \n",
       "4    W  Water and Ice Worlds - Covered primarily in wa...   \n",
       "5    M  Mineral/Ore-rich - Resource-rich planets, abun...   \n",
       "6    G  Garden Worlds - Basic planets with thriving ec...   \n",
       "\n",
       "                                            Examples  \n",
       "0        Nuclear Wastelands, Virus Decimated Planets  \n",
       "1                      Archeros, Other Garden Worlds  \n",
       "2                          Earth, Terra-like planets  \n",
       "3                    Partially Terraformable Planets  \n",
       "4                Neptune-like Planets, Frozen Worlds  \n",
       "5           Mars-like planets with mineral abundance  \n",
       "6  Flora-rich worlds, targeted for farming and co...  "
      ]
     },
     "execution_count": 4,
     "metadata": {},
     "output_type": "execute_result"
    }
   ],
   "source": [
    "import pandas as pd\n",
    "\n",
    "# Updated classification tiers and descriptions based on lorebook\n",
    "classification_data = {\n",
    "    'Tier': ['F', 'S', 'A', 'B', 'W', 'M', 'G'],\n",
    "    'Description': [\n",
    "        'Apocalyptic/Nuclear Ridden - Avoided due to high risks. These planets are desolate or hazardous.',\n",
    "        'Archeros-like - Super garden worlds with abundant flora and fauna, often defended.',\n",
    "        'Earth Prime-like - Planets similar to Earth, highly livable and balanced environment.',\n",
    "        'Varying Levels of Hospitable - Planets that require terraforming or aid to become livable.',\n",
    "        'Water and Ice Worlds - Covered primarily in water or ice, key resources for stations and relief efforts.',\n",
    "        'Mineral/Ore-rich - Resource-rich planets, abundant in minerals but may lack atmosphere or habitability.',\n",
    "        'Garden Worlds - Basic planets with thriving ecosystems, often targeted for sustainable farming or resource management.'\n",
    "    ],\n",
    "    'Examples': [\n",
    "        'Nuclear Wastelands, Virus Decimated Planets',\n",
    "        'Archeros, Other Garden Worlds',\n",
    "        'Earth, Terra-like planets',\n",
    "        'Partially Terraformable Planets',\n",
    "        'Neptune-like Planets, Frozen Worlds',\n",
    "        'Mars-like planets with mineral abundance',\n",
    "        'Flora-rich worlds, targeted for farming and conservation'\n",
    "    ]\n",
    "}\n",
    "\n",
    "# Create DataFrame\n",
    "classification_df = pd.DataFrame(classification_data)\n",
    "\n",
    "# Display classification tiers\n",
    "classification_df\n"
   ]
  },
  {
   "cell_type": "markdown",
   "id": "79c18dd2-23fe-4d95-8f44-d32548c842d0",
   "metadata": {},
   "source": [
    "Next simulating the supply and demand calculation that takes into account the STORED, EXCESS and CONSUMPTION RATES."
   ]
  },
  {
   "cell_type": "code",
   "execution_count": 5,
   "id": "ed349318-83a5-445d-82f3-3acfd899e52a",
   "metadata": {},
   "outputs": [
    {
     "data": {
      "text/plain": [
       "'Iron Ore: 540 units remaining.'"
      ]
     },
     "execution_count": 5,
     "metadata": {},
     "output_type": "execute_result"
    }
   ],
   "source": [
    "# Simulating resource supply and demand based on consumption rates\n",
    "station_resources = {\n",
    "    'Iron Ore': {'Stored': 500, 'Excess': 50, 'Consumption Rate': 10},\n",
    "    'Gold Ore': {'Stored': 200, 'Excess': 20, 'Consumption Rate': 5},\n",
    "    'Copper': {'Stored': 300, 'Excess': 30, 'Consumption Rate': 8}\n",
    "}\n",
    "\n",
    "# Function to simulate the supply and demand\n",
    "def simulate_supply_demand(resource_name):\n",
    "    stored = station_resources[resource_name]['Stored']\n",
    "    excess = station_resources[resource_name]['Excess']\n",
    "    consumption = station_resources[resource_name]['Consumption Rate']\n",
    "    \n",
    "    remaining = stored + excess - consumption\n",
    "    return f\"{resource_name}: {remaining} units remaining.\"\n",
    "\n",
    "# Example use\n",
    "simulate_supply_demand('Iron Ore')\n"
   ]
  },
  {
   "cell_type": "markdown",
   "id": "13d0a290-35d2-41d3-996b-9225db31e485",
   "metadata": {},
   "source": [
    "Creating a function to simulate asteriod of planet fracking operations by selecting planet types, resources and then calculating an extraction rate."
   ]
  },
  {
   "cell_type": "code",
   "execution_count": 6,
   "id": "deb02e03-b01e-4db4-83d9-e3085722a7fb",
   "metadata": {},
   "outputs": [
    {
     "data": {
      "text/plain": [
       "'Extracted 1010.3702737023488 units of Iron Ore from Mars planet.'"
      ]
     },
     "execution_count": 6,
     "metadata": {},
     "output_type": "execute_result"
    }
   ],
   "source": [
    "# Function to simulate resource extraction based on planet type and resources\n",
    "def simulate_fracking(planet_type, resource):\n",
    "    if planet_type in ['Mercury', 'Venus', 'Earth', 'Mars']:  # Solid planets\n",
    "        extraction_rate = 1.5\n",
    "    elif planet_type in ['Jupiter', 'Saturn']:  # Gas giants\n",
    "        extraction_rate = 0.75\n",
    "    else:\n",
    "        extraction_rate = 1.0\n",
    "    \n",
    "    # Random factor to simulate mining success\n",
    "    success_factor = random.uniform(0.5, 1.5)\n",
    "    \n",
    "    total_extracted = extraction_rate * success_factor * station_resources[resource]['Stored']\n",
    "    return f\"Extracted {total_extracted} units of {resource} from {planet_type} planet.\"\n",
    "\n",
    "# Example: Extracting resources from Earth\n",
    "simulate_fracking('Mars', 'Iron Ore')\n"
   ]
  },
  {
   "cell_type": "code",
   "execution_count": 7,
   "id": "b70d51af-080f-446d-8db4-5b90eb193c8d",
   "metadata": {},
   "outputs": [
    {
     "data": {
      "text/plain": [
       "165767.88"
      ]
     },
     "execution_count": 7,
     "metadata": {},
     "output_type": "execute_result"
    }
   ],
   "source": [
    "# Simulating resource depletion over time\n",
    "def extract_resources(planet, extraction_cycles):\n",
    "    depletion_rate = planet['Depletion Rate (%)']\n",
    "    initial_deposit = planet['Resource Deposit (tons)']\n",
    "    \n",
    "    for cycle in range(extraction_cycles):\n",
    "        extracted = initial_deposit * (depletion_rate / 100)\n",
    "        initial_deposit -= extracted\n",
    "        if initial_deposit <= 0:\n",
    "            return 0\n",
    "    \n",
    "    return round(initial_deposit, 2)\n",
    "\n",
    "# Example depletion over 5 cycles\n",
    "mars_like_planet = generate_planet('Mars', 'M')\n",
    "extract_resources(mars_like_planet, 5)\n"
   ]
  },
  {
   "cell_type": "code",
   "execution_count": 8,
   "id": "2126f849-98cc-4063-a732-85ebac3f7ebd",
   "metadata": {},
   "outputs": [
    {
     "data": {
      "application/vnd.jupyter.widget-view+json": {
       "model_id": "321d817b98074b60b672159f9724e7e9",
       "version_major": 2,
       "version_minor": 0
      },
      "text/plain": [
       "interactive(children=(Dropdown(description='reference_planet', options=('Mercury', 'Venus', 'Earth', 'Mars', '…"
      ]
     },
     "metadata": {},
     "output_type": "display_data"
    },
    {
     "data": {
      "text/plain": [
       "<function __main__.generate_interactive_planet(reference_planet, tier)>"
      ]
     },
     "execution_count": 8,
     "metadata": {},
     "output_type": "execute_result"
    }
   ],
   "source": [
    "from ipywidgets import interact\n",
    "\n",
    "def generate_interactive_planet(reference_planet, tier):\n",
    "    def add_variability(value):\n",
    "        return round(value * random.uniform(0.9, 1.1), 2)\n",
    "\n",
    "    planet = {\n",
    "        'Tier': tier,\n",
    "        'Mass (10^24 kg)': add_variability(planetary_data[reference_planet]['Mass (10^24 kg)']),\n",
    "        'Gravity (m/s²)': add_variability(planetary_data[reference_planet]['Gravity (m/s²)']),\n",
    "        'Diameter (km)': add_variability(planetary_data[reference_planet]['Diameter (km)']),\n",
    "        'Resource Deposit (tons)': random.randint(50000, 200000),\n",
    "        'Depletion Rate (%)': random.uniform(0.5, 5),\n",
    "        'Resource Type': random.choice(['Ore', 'Water', 'Gas', 'Minerals'])\n",
    "    }\n",
    "\n",
    "    return planet\n",
    "\n",
    "interact(generate_interactive_planet, reference_planet=planetary_data.keys(), tier=planet_tiers.keys())"
   ]
  },
  {
   "cell_type": "markdown",
   "id": "b02dd1ee-bd3b-4813-97b9-b92e1e17d720",
   "metadata": {},
   "source": [
    "Now let's simulate the trading of resources between different populations."
   ]
  },
  {
   "cell_type": "code",
   "execution_count": 12,
   "id": "4b77da37-f220-4c78-b7f0-e4e2db9c9f73",
   "metadata": {},
   "outputs": [
    {
     "data": {
      "application/vnd.jupyter.widget-view+json": {
       "model_id": "7dc2182e3a424dcc985a816ea3367cf5",
       "version_major": 2,
       "version_minor": 0
      },
      "text/plain": [
       "interactive(children=(IntSlider(value=1, description='num_turns', max=12, min=1), Button(description='Run Inte…"
      ]
     },
     "metadata": {},
     "output_type": "display_data"
    },
    {
     "data": {
      "text/plain": [
       "<function __main__.simulate_turn(num_turns)>"
      ]
     },
     "execution_count": 12,
     "metadata": {},
     "output_type": "execute_result"
    }
   ],
   "source": [
    "import pandas as pd\n",
    "import random\n",
    "import ipywidgets as widgets\n",
    "from IPython.display import display\n",
    "from ipywidgets import interact, interact_manual\n",
    "\n",
    "# Define Goods and Resources Data\n",
    "goods_data = {\n",
    "    'Good Name': ['Olive Oil', 'Wine', 'Vinegar', 'Essential Oil', 'Perfume', 'Processed Beef', 'Processed Lamb', \n",
    "                  'Smoked Salmon', 'Canned Salmon', 'Silver Ingots', 'Gold Ingots', 'Jewelry', 'Steel', 'Aluminum', \n",
    "                  'Glass', 'Bricks'],\n",
    "    'Good Type': ['Oil', 'Beverage', 'Condiment', 'Oil', 'Fragrance', 'Food', 'Food', 'Food', 'Food', 'Ingot', 'Ingot', \n",
    "                  'Luxury Item', 'Metal', 'Metal', 'Material', 'Building Material'],\n",
    "    'Derived From': ['Olives', 'Grapes', 'Grapes', 'Lavender', 'Lavender', 'Beef', 'Lamb', 'Salmon', 'Salmon', \n",
    "                     'Silver Ore', 'Gold Ore', 'Diamonds, Gold', 'Iron Ore, Coal', 'Bauxite', 'Silica', 'Clay'],\n",
    "    'Primary Use': ['Cooking, cosmetics, health', 'Consumption, trade', 'Cooking, preservation', \n",
    "                    'Aromatherapy, cosmetics', 'Personal scent', 'Consumption', 'Consumption', 'Consumption', \n",
    "                    'Long-term storage, consumption', 'Trade, jewelry making', 'Currency, investment, jewelry', \n",
    "                    'Adornment, trade', 'Construction, manufacturing', 'Manufacturing, packaging', \n",
    "                    'Construction, containers', 'Construction']\n",
    "}\n",
    "\n",
    "resources_data = {\n",
    "    'Resource ID': ['BO', 'IO', 'TO', 'LO', 'GO', 'SO', 'O', 'D', 'W', 'C'],\n",
    "    'Resource Name': ['Bronze Ore', 'Iron Ore', 'Tin Ore', 'Lead Ore', 'Gold Ore', 'Silver Ore', 'Obsidian', 'Diamond', \n",
    "                      'Wood', 'Clay'],\n",
    "    'Simplified Node': ['Mine', 'Mine', 'Mine', 'Mine', 'Vein', 'Vein', 'Volcano', 'Pipe', 'Forest', 'Quarry'],\n",
    "    'Resource Type': ['Resource', 'Resource', 'Resource', 'Resource', 'Luxury', 'Luxury', 'Luxury', 'Luxury', \n",
    "                      'Commodity', 'Commodity'],\n",
    "    'Resource Used For': ['Alloy of copper and tin, used for tools and weapons', 'Steel production, construction', \n",
    "                          'Bronze alloy', 'Batteries, radiation shielding', 'Currency, electronics, jewelry', \n",
    "                          'Currency, electronics, silverware', 'Cutting tools, surgical instruments', \n",
    "                          'Cutting, drilling tools', 'Construction, fuel, paper', 'Pottery, bricks, ceramics']\n",
    "}\n",
    "\n",
    "# Create DataFrames\n",
    "goods_df = pd.DataFrame(goods_data)\n",
    "resources_df = pd.DataFrame(resources_data)\n",
    "\n",
    "# Hellenian city-states\n",
    "hellenian_states = ['Crete', 'Ionia', 'Itonus', 'Taenarum', 'Oscan', 'Raetic', 'Umbria', 'Mt. Olympus', 'Athens', 'Delos']\n",
    "\n",
    "# Initialize populations and resources for Terminus and Hellenia\n",
    "terminus_population = 10000\n",
    "hellenia_population = 3000000\n",
    "\n",
    "resource_types = ['Ore', 'Water', 'Gas', 'Minerals']\n",
    "terminus_resources = {resource: {'Stored': 5000, 'Excess': 500, 'Consumption Rate': 10} for resource in resource_types}\n",
    "hellenia_resources = {resource: {'Stored': 10000, 'Excess': 1000, 'Consumption Rate': 50} for resource in resource_types}\n",
    "\n",
    "# Processing of raw resources into goods\n",
    "def process_resources_to_goods(state, resource, amount):\n",
    "    # Check if the resource exists in the 'Derived From' column of goods_df\n",
    "    matching_good = goods_df[goods_df['Derived From'] == resource]\n",
    "    \n",
    "    if matching_good.empty:\n",
    "        # No corresponding good found, return the original resource amount\n",
    "        print(f\"{state} retains {amount} units of {resource} (no processing available).\")\n",
    "        return amount  # Return the raw resource as it's not processed into a good\n",
    "    else:\n",
    "        good_row = matching_good.iloc[0]\n",
    "        good_name = good_row['Good Name']\n",
    "        # Simulate some portion of the raw resource being processed into the final good\n",
    "        processed_amount = int(amount * 0.8)  # 80% conversion efficiency\n",
    "        print(f\"{state} processed {amount} units of {resource} into {processed_amount} units of {good_name}.\")\n",
    "        return processed_amount\n",
    "\n",
    "# Function to simulate trade between Hellenian states\n",
    "def simulate_hellenian_trade():\n",
    "    for state in hellenian_states:\n",
    "        # Simulate trade of raw resources or goods between city-states\n",
    "        trading_state = random.choice(hellenian_states)\n",
    "        resource = random.choice(resources_df['Resource Name'])\n",
    "        trade_amount = random.randint(100, 500)\n",
    "        if state != trading_state:\n",
    "            # Simulate processing raw resources into goods\n",
    "            processed_amount = process_resources_to_goods(state, resource, trade_amount)\n",
    "            print(f\"{state} trades {processed_amount} units of {resource} with {trading_state}.\")\n",
    "        else:\n",
    "            print(f\"{state} retains {trade_amount} units of {resource} for local use.\")\n",
    "\n",
    "# Function to simulate Terminus trade with Hellenia (only rare/advanced goods)\n",
    "def simulate_terminus_trade():\n",
    "    # Define advanced goods for Terminus export (not produced on Hellenia)\n",
    "    advanced_goods = ['Advanced Medicines', 'Antiseptic', 'Vaccines', 'High-tech Devices']\n",
    "    for resource in advanced_goods:\n",
    "        export_amount = random.randint(100, 500)\n",
    "        print(f\"Terminus exports {export_amount} units of {resource} to Hellenia.\")\n",
    "\n",
    "# Function to simulate Terminus importing rare raw materials from Hellenia\n",
    "def simulate_terminus_import():\n",
    "    rare_resources = ['Gold Ore', 'Silver Ore', 'Diamonds', 'Obsidian', 'Platinum Ore', 'Lithium Ore', 'Uranium Ore']\n",
    "    for resource in rare_resources:\n",
    "        import_amount = random.randint(100, 500)\n",
    "        if import_amount > 0:\n",
    "            print(f\"Terminus imports {import_amount} units of {resource} from Hellenia.\")\n",
    "\n",
    "# Simulate a full turn (1 month)\n",
    "def simulate_turn(num_turns):\n",
    "    for turn in range(num_turns):\n",
    "        print(f\"\\n--- Month {turn + 1} ---\")\n",
    "        simulate_hellenian_trade()  # Trade between Hellenian states\n",
    "        simulate_terminus_trade()   # Terminus exports advanced goods to Hellenia\n",
    "        simulate_terminus_import()  # Terminus imports rare raw resources from Hellenia\n",
    "        print(f\"\\nEnd of Month {turn + 1}.\\n\")\n",
    "\n",
    "# Simulate 1 month per \"Run Interact\" button click\n",
    "interact_manual(simulate_turn, num_turns=widgets.IntSlider(min=1, max=12, step=1, value=1))\n"
   ]
  },
  {
   "cell_type": "code",
   "execution_count": 13,
   "id": "126ab794-bfbd-44c9-92d9-4038826386c9",
   "metadata": {},
   "outputs": [
    {
     "data": {
      "application/vnd.jupyter.widget-view+json": {
       "model_id": "000e376c3b8f41c19281b9d2bdbc0f9b",
       "version_major": 2,
       "version_minor": 0
      },
      "text/plain": [
       "Button(description='Refresh Resource Table', style=ButtonStyle())"
      ]
     },
     "metadata": {},
     "output_type": "display_data"
    },
    {
     "data": {
      "text/html": [
       "<div>\n",
       "<style scoped>\n",
       "    .dataframe tbody tr th:only-of-type {\n",
       "        vertical-align: middle;\n",
       "    }\n",
       "\n",
       "    .dataframe tbody tr th {\n",
       "        vertical-align: top;\n",
       "    }\n",
       "\n",
       "    .dataframe thead th {\n",
       "        text-align: right;\n",
       "    }\n",
       "</style>\n",
       "<table border=\"1\" class=\"dataframe\">\n",
       "  <thead>\n",
       "    <tr style=\"text-align: right;\">\n",
       "      <th></th>\n",
       "      <th>Location</th>\n",
       "      <th>Resource</th>\n",
       "      <th>Stored</th>\n",
       "      <th>Excess</th>\n",
       "      <th>Consumption Rate</th>\n",
       "    </tr>\n",
       "  </thead>\n",
       "  <tbody>\n",
       "    <tr>\n",
       "      <th>0</th>\n",
       "      <td>Terminus</td>\n",
       "      <td>Ore</td>\n",
       "      <td>5000</td>\n",
       "      <td>500</td>\n",
       "      <td>10</td>\n",
       "    </tr>\n",
       "    <tr>\n",
       "      <th>1</th>\n",
       "      <td>Terminus</td>\n",
       "      <td>Water</td>\n",
       "      <td>5000</td>\n",
       "      <td>500</td>\n",
       "      <td>10</td>\n",
       "    </tr>\n",
       "    <tr>\n",
       "      <th>2</th>\n",
       "      <td>Terminus</td>\n",
       "      <td>Gas</td>\n",
       "      <td>5000</td>\n",
       "      <td>500</td>\n",
       "      <td>10</td>\n",
       "    </tr>\n",
       "    <tr>\n",
       "      <th>3</th>\n",
       "      <td>Terminus</td>\n",
       "      <td>Minerals</td>\n",
       "      <td>5000</td>\n",
       "      <td>500</td>\n",
       "      <td>10</td>\n",
       "    </tr>\n",
       "    <tr>\n",
       "      <th>4</th>\n",
       "      <td>Hellenia</td>\n",
       "      <td>Ore</td>\n",
       "      <td>10000</td>\n",
       "      <td>1000</td>\n",
       "      <td>50</td>\n",
       "    </tr>\n",
       "    <tr>\n",
       "      <th>5</th>\n",
       "      <td>Hellenia</td>\n",
       "      <td>Water</td>\n",
       "      <td>10000</td>\n",
       "      <td>1000</td>\n",
       "      <td>50</td>\n",
       "    </tr>\n",
       "    <tr>\n",
       "      <th>6</th>\n",
       "      <td>Hellenia</td>\n",
       "      <td>Gas</td>\n",
       "      <td>10000</td>\n",
       "      <td>1000</td>\n",
       "      <td>50</td>\n",
       "    </tr>\n",
       "    <tr>\n",
       "      <th>7</th>\n",
       "      <td>Hellenia</td>\n",
       "      <td>Minerals</td>\n",
       "      <td>10000</td>\n",
       "      <td>1000</td>\n",
       "      <td>50</td>\n",
       "    </tr>\n",
       "  </tbody>\n",
       "</table>\n",
       "</div>"
      ],
      "text/plain": [
       "   Location  Resource  Stored  Excess  Consumption Rate\n",
       "0  Terminus       Ore    5000     500                10\n",
       "1  Terminus     Water    5000     500                10\n",
       "2  Terminus       Gas    5000     500                10\n",
       "3  Terminus  Minerals    5000     500                10\n",
       "4  Hellenia       Ore   10000    1000                50\n",
       "5  Hellenia     Water   10000    1000                50\n",
       "6  Hellenia       Gas   10000    1000                50\n",
       "7  Hellenia  Minerals   10000    1000                50"
      ]
     },
     "metadata": {},
     "output_type": "display_data"
    }
   ],
   "source": [
    "import pandas as pd\n",
    "import random\n",
    "import ipywidgets as widgets\n",
    "from IPython.display import display\n",
    "from ipywidgets import interact, interact_manual\n",
    "# Define a function to get current resource states for Terminus and Hellenia\n",
    "def get_resource_table():\n",
    "    data = {\n",
    "        'Location': ['Terminus', 'Terminus', 'Terminus', 'Terminus', 'Hellenia', 'Hellenia', 'Hellenia', 'Hellenia'],\n",
    "        'Resource': ['Ore', 'Water', 'Gas', 'Minerals', 'Ore', 'Water', 'Gas', 'Minerals'],\n",
    "        'Stored': [terminus_resources['Ore']['Stored'], terminus_resources['Water']['Stored'], \n",
    "                   terminus_resources['Gas']['Stored'], terminus_resources['Minerals']['Stored'],\n",
    "                   hellenia_resources['Ore']['Stored'], hellenia_resources['Water']['Stored'], \n",
    "                   hellenia_resources['Gas']['Stored'], hellenia_resources['Minerals']['Stored']],\n",
    "        'Excess': [terminus_resources['Ore']['Excess'], terminus_resources['Water']['Excess'], \n",
    "                   terminus_resources['Gas']['Excess'], terminus_resources['Minerals']['Excess'],\n",
    "                   hellenia_resources['Ore']['Excess'], hellenia_resources['Water']['Excess'], \n",
    "                   hellenia_resources['Gas']['Excess'], hellenia_resources['Minerals']['Excess']],\n",
    "        'Consumption Rate': [terminus_resources['Ore']['Consumption Rate'], terminus_resources['Water']['Consumption Rate'], \n",
    "                             terminus_resources['Gas']['Consumption Rate'], terminus_resources['Minerals']['Consumption Rate'],\n",
    "                             hellenia_resources['Ore']['Consumption Rate'], hellenia_resources['Water']['Consumption Rate'], \n",
    "                             hellenia_resources['Gas']['Consumption Rate'], hellenia_resources['Minerals']['Consumption Rate']]\n",
    "    }\n",
    "    return pd.DataFrame(data)\n",
    "\n",
    "# Function to update the display dynamically\n",
    "def display_resource_table():\n",
    "    resource_table = get_resource_table()\n",
    "    display(resource_table)\n",
    "\n",
    "# Create a button to refresh and display the table interactively\n",
    "refresh_button = widgets.Button(description=\"Refresh Resource Table\")\n",
    "refresh_button.on_click(lambda b: display_resource_table())\n",
    "\n",
    "# Display the refresh button and the initial table\n",
    "display(refresh_button)\n",
    "display_resource_table()\n"
   ]
  },
  {
   "cell_type": "code",
   "execution_count": null,
   "id": "403d6148-a4ca-4719-8e06-2c2aa08d6233",
   "metadata": {},
   "outputs": [],
   "source": []
  }
 ],
 "metadata": {
  "kernelspec": {
   "display_name": "Python 3 (ipykernel)",
   "language": "python",
   "name": "python3"
  },
  "language_info": {
   "codemirror_mode": {
    "name": "ipython",
    "version": 3
   },
   "file_extension": ".py",
   "mimetype": "text/x-python",
   "name": "python",
   "nbconvert_exporter": "python",
   "pygments_lexer": "ipython3",
   "version": "3.12.1"
  }
 },
 "nbformat": 4,
 "nbformat_minor": 5
}
