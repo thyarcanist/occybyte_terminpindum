{
 "cells": [
  {
   "cell_type": "markdown",
   "id": "1130edfd-15d5-444a-8ac2-91b6c1a2228b",
   "metadata": {},
   "source": [
    "## Machine Learning AI NPC Agents"
   ]
  },
  {
   "cell_type": "markdown",
   "id": "5cd7bd3d-8000-4fb6-a6d7-1348d4badd4d",
   "metadata": {},
   "source": [
    "A mouthy word but an interesting idea; I joined the Microsoft Founders hub with this as a start-up idea. <br>\n",
    "Ideally, a framework would be created and people could be able to adopt it as a framework. <br>\n",
    "At first use InWorld AI's characters as a prototype. <br>\n",
    "\n",
    "\n"
   ]
  },
  {
   "cell_type": "markdown",
   "id": "4a7522ea-1ca4-4626-b976-985e3d095935",
   "metadata": {},
   "source": [
    "Lillian Weng from OpenAI has a Github blog post that somewhat details what I want out of this:\n",
    "- https://lilianweng.github.io/posts/2023-06-23-agent/\n",
    "\n",
    "Simply put it would be the next stage of co-operative gameplay except it eliminates the need for the \"player two\".\n",
    "As I put on my application, it's a 'battle buddy' in a setting that allows for interesting choices. The idea is this would be the next step for co-op enabled games, except the other is an AI that learns based on what you do--but they aren't copying you they are adapting to you and are building behaviors of their own.\n",
    "\n",
    "Machine L"
   ]
  },
  {
   "cell_type": "code",
   "execution_count": null,
   "id": "e9dbc736-91a0-4ab3-b2ef-3edad4af88bf",
   "metadata": {},
   "outputs": [],
   "source": []
  }
 ],
 "metadata": {
  "kernelspec": {
   "display_name": "Python 3 (ipykernel)",
   "language": "python",
   "name": "python3"
  },
  "language_info": {
   "codemirror_mode": {
    "name": "ipython",
    "version": 3
   },
   "file_extension": ".py",
   "mimetype": "text/x-python",
   "name": "python",
   "nbconvert_exporter": "python",
   "pygments_lexer": "ipython3",
   "version": "3.10.8"
  }
 },
 "nbformat": 4,
 "nbformat_minor": 5
}
