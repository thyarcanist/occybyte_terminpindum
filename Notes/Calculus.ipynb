{
 "cells": [
  {
   "cell_type": "markdown",
   "id": "73e218a4-4d78-4360-b4eb-71772dd8a207",
   "metadata": {},
   "source": [
    "# Calculus"
   ]
  },
  {
   "cell_type": "markdown",
   "id": "39c214b0-e9f4-4a39-9159-0f1d32483044",
   "metadata": {},
   "source": [
    "The question is how do I know I'm learning? How do I know I'm comprehending, what does it mean when my noggin starts to feel odd with pressure? Alright though, it's time to start getting better at Math! I really, really need to git gud with Calculus!"
   ]
  },
  {
   "cell_type": "code",
   "execution_count": null,
   "id": "debaa06a-0fba-4c88-a2ce-8dbb7c431d8d",
   "metadata": {},
   "outputs": [],
   "source": []
  }
 ],
 "metadata": {
  "kernelspec": {
   "display_name": "Python 3 (ipykernel)",
   "language": "python",
   "name": "python3"
  },
  "language_info": {
   "codemirror_mode": {
    "name": "ipython",
    "version": 3
   },
   "file_extension": ".py",
   "mimetype": "text/x-python",
   "name": "python",
   "nbconvert_exporter": "python",
   "pygments_lexer": "ipython3",
   "version": "3.10.8"
  }
 },
 "nbformat": 4,
 "nbformat_minor": 5
}
