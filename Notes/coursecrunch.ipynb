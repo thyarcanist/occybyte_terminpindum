{
 "cells": [
  {
   "cell_type": "markdown",
   "id": "fd48ede3-dfbf-420b-a96e-fab452e7f5cd",
   "metadata": {},
   "source": [
    "# Course Crunch!\n",
    "\n",
    "Okay, so these are the courses that I'm going to go after. I'll have to cram them due to the seven day limit on coursera.org; if I get through with it in time. I get a certificate. Whew!"
   ]
  },
  {
   "cell_type": "markdown",
   "id": "231325a6-4b88-42e9-b049-73fcfefca4bf",
   "metadata": {},
   "source": [
    "Courses:\n",
    "\n",
    "- [Machine Learning Specialization](https://www.coursera.org/specializations/machine-learning-introduction)\n",
    "- [Deep Learning Specialization](https://www.coursera.org/specializations/deep-learning)\n",
    "- [Natural Language Processing](https://www.coursera.org/specializations/natural-language-processing)\n",
    "- [TensorFlow Developer Professional Certificate](https://www.coursera.org/professional-certificates/tensorflow-in-practice)\n",
    "- [Mathematics For Machine Learning](https://community.deeplearning.ai/c/math-for-machine-learning/264)\n",
    "  - Calculus\n",
    "  - Linear Algebra\n",
    "  - Statistics\n",
    "  - Probability\n",
    "- [Introduction to Mathematical Thinking](https://www.coursera.org/learn/mathematical-thinking)\n",
    "- [AI For Everyone](https://www.coursera.org/learn/ai-for-everyone?trk_ref=articleProductCard)\n"
   ]
  },
  {
   "cell_type": "code",
   "execution_count": null,
   "id": "f2a54741-9fa1-41e5-a672-bfc6eff02ea8",
   "metadata": {},
   "outputs": [],
   "source": []
  }
 ],
 "metadata": {
  "kernelspec": {
   "display_name": "Python 3 (ipykernel)",
   "language": "python",
   "name": "python3"
  },
  "language_info": {
   "codemirror_mode": {
    "name": "ipython",
    "version": 3
   },
   "file_extension": ".py",
   "mimetype": "text/x-python",
   "name": "python",
   "nbconvert_exporter": "python",
   "pygments_lexer": "ipython3",
   "version": "3.10.8"
  }
 },
 "nbformat": 4,
 "nbformat_minor": 5
}
