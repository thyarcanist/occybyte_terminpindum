{
 "cells": [
  {
   "cell_type": "markdown",
   "id": "4047a50f-7d7e-4727-a982-8ff70428f317",
   "metadata": {},
   "source": [
    "# Learnings  Notes"
   ]
  },
  {
   "cell_type": "markdown",
   "id": "4836b398-d297-41c8-8486-982ff69304ae",
   "metadata": {},
   "source": [
    "I will note that-- I'm going by a tutorial  from Tensorflow that was uploaded in Sept 4th, 2019. <br>\n",
    "I've always been into machine learning and artificial intelligence but never dived in it because it seemed scary to learn. <br>\n",
    "I was also thick in learning about Human-Computer Interaction and Game Design. So, it would have split my learning efforts. <br>\n",
    "\n",
    "Now, I feel like, is the best time. So, I'm doing my damndest to pick up Python again and to do a huge deep dive into upskilling in GenAI/ML Engineering. If possible, I'll probably attempt to get a Masters degree in Artificial Intelligence which... admittedly, I was going to try that last year, but a lot of tragic, life-changing stuff overwhelmed me. <br>\n",
    "\n",
    "What got me back into learning about this is because I learned how the diffusion models worked for image creation based generative models such as DALL-E and Midjourney; it's really, really neat. It basically embeds the pixels using an attention mechanism and erases and then it does the reverse to create a new image. It's basically like taking a normal image, turning it into CRT fuzz/white noise, then overtime you are generating an actual image based on a prompt.<br>\n",
    "\n",
    "This is more of an... considered effort to pivot from being a Technical Game Designer to something more... GenAI/ML Engineer based as my interest is more than peaked. <br>\n",
    "\n",
    "Ideally, I'd strive for a GenAI Engeering in Gaming type of role."
   ]
  },
  {
   "cell_type": "markdown",
   "id": "24e30da9-8bd4-4b5e-8674-a8131012d493",
   "metadata": {},
   "source": [
    "<a id=\"0\"></a> <br>\n",
    " # Table of Contents \n",
    "1. [Machine Learning, Zero to Hero](#1)\n",
    "1. [Quick Calculus & Python3](#2) "
   ]
  },
  {
   "cell_type": "code",
   "execution_count": null,
   "id": "5b3e8d73-b5a4-4f98-a6f5-09040b81827d",
   "metadata": {},
   "outputs": [],
   "source": []
  },
  {
   "cell_type": "markdown",
   "id": "a02f0e44-8965-49d0-becf-df178c100d73",
   "metadata": {},
   "source": [
    "# Machine Learning, Zero to Hero"
   ]
  },
  {
   "cell_type": "markdown",
   "id": "39355c17-cef2-43a8-8399-42eb19fec601",
   "metadata": {},
   "source": [
    "In Machine Learning, a model is a trained neural network. <br>\n",
    "The below sample code using python is basically how most machine learning works. <br>"
   ]
  },
  {
   "cell_type": "markdown",
   "id": "b86deae2-518d-495a-9f8a-7c7d8257cdbb",
   "metadata": {},
   "source": [
    "```python\n",
    "model = kera.Sequential([keras.layers.Dense[units=1, input_shape=[1])])\n",
    "model.compile(optimize='sgd', loss='mean_squared_error')\n",
    "\n",
    "xs = np.array(-1.0, 0.0, 1.0, 2.0, ..., dtype=float)\n",
    "ys = np.array(-3.0, -1.0, 1.0, 3.0, ..., dtype=float)\n",
    "\n",
    "model.fit(xs, ys, epochs=500)\n",
    "\n",
    "print(model.predict([10.0])\n",
    "```\n"
   ]
  },
  {
   "cell_type": "markdown",
   "id": "2655886f-fa65-4fc0-95dc-c8e07a28f484",
   "metadata": {},
   "source": [
    "The first line defines the model itself. <br>\n",
    "Keras.layers.Dense has a single layer. <br>\n",
    "\n",
    "The two functions: optimizer and loss. <br>\n",
    "\n",
    "The model will make a guess about the relationship of numbers. <br>\n",
    "Optimizer will get us slower and closer to the formula. <br>\n",
    "Loss checks how good or how bad the guess is. <br>\n",
    "\n",
    "<br>\n",
    "\n",
    "```python\n",
    "model.fit(xs, ys, epochs=500) #makes sure we go through the loop 500 times\n",
    "```\n",
    "\n"
   ]
  },
  {
   "cell_type": "code",
   "execution_count": null,
   "id": "9c377755-4be6-4a49-8d57-3435dede51d9",
   "metadata": {},
   "outputs": [],
   "source": []
  },
  {
   "cell_type": "markdown",
   "id": "a5318e88-3790-4009-a19e-bbd52c83f4f6",
   "metadata": {},
   "source": [
    "The Fashion MNIST dataset has 70k images and 10 categories all the images are 28x28.\n",
    "\n",
    "```python\n",
    "\n",
    "import tensorflow as tf\n",
    "from tensorflow import keras\n",
    "\n",
    "fashion_mnist = keras.datasets.fashion_mnist\n",
    "(train_images, train_labels), (test_images, test_labels) = fashion_mnist.load_data()\n",
    "```\n",
    "\n",
    "The label is the number indicating the class of that type of clothing.\n",
    "\n",
    "1. Computers deal better with numbers.\n",
    "2. Numbers allow you to point to a text description in any language, making sure there is no bias.\n",
    "\n",
    "\n",
    "```python\n",
    "\n",
    "model = keras.Sequential([\n",
    "    keras.layers.Flatten(input_shape=(28, 28)),\n",
    "    keras.layers.Dense(128, activation=tf.nn.relu),\n",
    "    keras.layers.Dense(10, activation=tf.nn.softmax) ## softmax is the one layer with the attention mechanism that I learned in Google's GenAI Foundations.\n",
    "])\n",
    "\n",
    "model.compile.(optimizer=tf.train.AdamOptimizer(),\n",
    "               loss='sparse_categorical_crossentropy')\n",
    "\n",
    "```\n",
    "\n",
    "The activation functions (relu -> rectified linear unit -> returns a value if its greater than 0).\n",
    "Softmax is the weighted mechanism to get the closest correct image."
   ]
  },
  {
   "cell_type": "markdown",
   "id": "b0574a76-ac36-4b14-931d-cbf5e1da4a04",
   "metadata": {},
   "source": [
    "# Quick Calculus & Python3"
   ]
  },
  {
   "cell_type": "markdown",
   "id": "b6f7c5ff-1fa2-4c5a-9f0c-8aff877d6e23",
   "metadata": {},
   "source": [
    "Was dealing with unmanaged ADHD and super, duper depressed during high school. <br>\n",
    "So, I definitely need to refresh and relearn. <br>"
   ]
  },
  {
   "cell_type": "markdown",
   "id": "92d37cc0-19cc-4732-9288-d36b772d35d4",
   "metadata": {},
   "source": [
    "1. Limits f(2)\n",
    "2. Derivatives f(x)\n",
    "3. Integration -> Area\n",
    "\n",
    "Derivatives are great for calculating rates of change; they give slopes of an original function and some value. <br>\n",
    "    The derivative of f(x) is f'(x)   [f prime of x] <br>\n",
    "Integration is the opposite of derivates; finding the area of the curve. <br>\n",
    "    Calculating how much of something accumulates overtime. <br>"
   ]
  },
  {
   "cell_type": "markdown",
   "id": "2f489246-1d2c-48c8-834d-303c94c9e73e",
   "metadata": {},
   "source": [
    "What are two good edX courses for learning calculus and attaining the credits?"
   ]
  },
  {
   "cell_type": "markdown",
   "id": "93c87e03-7dbc-4c39-9ff5-413cd1513649",
   "metadata": {},
   "source": [
    "## Calculus\n",
    "\n",
    "- Resources for websites that offeres calculus: https://libguides.nova.edu/cnso-calculus/websites\n",
    "- http://calculus.org/\n",
    "- \n",
    "\n",
    "\n",
    "\n",
    "## Python\n",
    "\n",
    "What sucks is that I learned how to use Python back in 2014. It's almost been ten years; crap, but in that time I've been using C#, learning C++ and Rust. I know HTML & CSS, or well, how to use it. So, it's not a loss. The thing that got me the most was that I learned one of my favorite games at the time's decision trees was built in python. That sold me on it: the game? Vampire The Masquerade: Bloodlines.\n",
    "\n",
    "Python3\n",
    "- https://docs.python.org/3/\n",
    "- https://pythoninstitute.org/pcephttps://edube.org/study/\n",
    "\n",
    "\n",
    "Python3 Courses (as a basic crash course):\n",
    "- https://www.netacad.com/courses/programming/pcap-programming-essentials-python\n",
    "\n",
    "\n",
    "Python3 Exam links:\n",
    "- https://ums.edube.org/products/pcep-30-02-np-with-retake [Certified Entry-Level Python Programmer]\n",
    "\n",
    "Python Packages:\n",
    "\n",
    "- numpy is the fundamental package for scientific computing with Python.\n",
    "- matplotlib is a popular library to plot graphs in Python.\n",
    "- tensorflow a popular platform for machine learning.\n",
    "\n",
    "```\n",
    "    # Tensorflow and Keras\n",
    "Tensorflow is a machine learning package developed by Google. In 2019, Google integrated Keras into Tensorflow and released Tensorflow 2.0. Keras is a framework developed # independently by François Chollet that creates a simple, layer-centric interface to Tensorflow. This course will be using the Keras interface. \n",
    "```"
   ]
  },
  {
   "cell_type": "code",
   "execution_count": null,
   "id": "d65e0d12-a5c5-490a-997c-29f9147f2bd5",
   "metadata": {},
   "outputs": [],
   "source": []
  },
  {
   "cell_type": "code",
   "execution_count": 19,
   "id": "7953ade9-0600-4fd7-b8a3-63b75c62c294",
   "metadata": {},
   "outputs": [
    {
     "name": "stdout",
     "output_type": "stream",
     "text": [
      "\"I'm\"\n",
      "\"\"Learning\"\"\n",
      "\"\"\"Python\"\"\"\n",
      "\n"
     ]
    }
   ],
   "source": [
    "#This is the wildest string I've done in a shitpost way.\n",
    "print(\"\\\"I'm\\\"\\n\",\"Learning\\\"\\\"\\n\"\"\",\"\\\"Python\\\"\\\"\\\"\\n\",sep='\"\"')"
   ]
  },
  {
   "cell_type": "code",
   "execution_count": 21,
   "id": "063e59e9-ea05-4101-a19b-fb0e94b91374",
   "metadata": {},
   "outputs": [
    {
     "name": "stdout",
     "output_type": "stream",
     "text": [
      "You... I've seen you.\n",
      "\n"
     ]
    },
    {
     "name": "stdin",
     "output_type": "stream",
     "text": [
      "Who me?\n",
      " WHO\n"
     ]
    },
    {
     "name": "stdout",
     "output_type": "stream",
     "text": [
      "Yes, you... WHO\n"
     ]
    }
   ],
   "source": [
    "print(\"You... I've seen you.\\n\")\n",
    "huh = input(\"Who me?\\n\")\n",
    "\n",
    "print(\"Yes, you...\", huh)"
   ]
  },
  {
   "cell_type": "code",
   "execution_count": null,
   "id": "01382183-0135-48f2-9cf9-d0b49df854ed",
   "metadata": {},
   "outputs": [],
   "source": []
  },
  {
   "cell_type": "markdown",
   "id": "6ec15d0a-b321-4c23-9c26-119d74441911",
   "metadata": {},
   "source": [
    "# AI, GenAI & Machine Learning in General"
   ]
  },
  {
   "cell_type": "markdown",
   "id": "bc067277-9731-487b-9d09-242a799ff2df",
   "metadata": {},
   "source": [
    "I would suggest looking up MIT and Stanford resources first; Stanford has a lot of really good materials. <br>\n",
    "Then Google, Microsoft and IBM; I haven't checked with another tech companies learning material yet. <br>\n",
    "\n",
    "For learning how to use Jupyter Notebook, I would suggest using Google's Cloud Skills' Boost platform first with Vertex AI API. <br>\n",
    "The Machine Learning Specialization course from Stanford also has some labs that uses Jupyter Notebook! <br>\n",
    "\n",
    "```python\n",
    " # I will note that I'm doing this to my best ability as someone with literally zero income, I'm not liquid at all. For around 10 months, supporting my sister and my disabled dad; my mom was unfortunately murdered in 2022. Which 90% contributed to me losing my job. So, I'm SUPER dry. All funds exhausted. So, the resources I'm using are free or uses a generous free trial in a way.\n",
    "```\n",
    "\n",
    "\n",
    "\n",
    "Resources for Learning:\n",
    "\n",
    "- https://online.stanford.edu/courses/soe-ymls-machine-learning-specialization\n",
    "- https://online.stanford.edu/courses/soe-ycsautomata-automata-theory\n",
    "- https://www.deeplearning.ai/courses/tensorflow-developer-professional-certificate/ [TensorFlow Professional Certificate]\n",
    "- https://www.cloudskillsboost.google/course_templates/556\n",
    "- https://github.com/microsoft/generative-ai-for-beginners\n",
    "    - Also linked here, is the machine learning and artificial intelligence for beginners.\n",
    "- https://unity-technologies.github.io/ml-agents/\n",
    " \n",
    "\n",
    "Programming resources:\n",
    "- https://online.stanford.edu/courses/xfds112-r-programming-fundamentals\n",
    "- https://www.deeplearning.ai/blog/essential-python-libraries-for-machine-learning-and-data-science/\n",
    "\n",
    "\n",
    "Open source LLM models:\n",
    "- https://huggingface.co/models\n",
    "\n",
    "Research papers:\n",
    "- https://arxiv.org/abs/2304.03442\n",
    "- https://openai.com/research\n",
    "\n",
    "\n",
    "Blogs / Online Docs / Books / Responsibile AI / et cetera.,:\n",
    "\n",
    "- http://lilianweng.github.io/\n",
    "- https://www.deeplearningbook.org/\n",
    "- https://spinningup.openai.com/en/latest/\n",
    "- https://openai.com/charter\n",
    "- https://www.dropbox.com/s/e38nil1dnl7481q/machine_learning.pdf?dl=0"
   ]
  },
  {
   "cell_type": "code",
   "execution_count": null,
   "id": "939f8601-a767-4312-b73b-db874f28bff7",
   "metadata": {},
   "outputs": [],
   "source": []
  },
  {
   "cell_type": "code",
   "execution_count": null,
   "id": "9dc1b602-3c68-44ad-9411-dd529b0c36db",
   "metadata": {},
   "outputs": [],
   "source": []
  },
  {
   "cell_type": "markdown",
   "id": "bc6c096b-2037-465b-8328-e98c848b1390",
   "metadata": {},
   "source": [
    "### Concepts to Revist / Make Note:\n",
    "\n",
    "- Regression Models\n",
    "    - Linear Regression with One Variable\n",
    "    - Linear Regression with Multiple Variables\n",
    "    - Gradient Descent\n",
    "        - This is one of the most important building blocks in machine learning. <br> Deep learning models use these to train. <br> You can use it to minimize the cost function of J. <br> parameters w,b keep changing to reduce J(w,b)\n",
    "        -  gradient descent algorithm must be updated simultaneously\n",
    "        -  The Greek alpha is the learning rate in teh Gradient descent algorithm\n",
    "        -   w always decreases by a small amount because the alpha is always positive <br> if alpha is too small, gradient descent may be slow  <br>\n",
    "        - if alpha is too big, gradient descent doesn't reduce the cost function <br> it will fail to converge and may even diverge\n",
    "    - Logistic Regression\n",
    "- Decision boundary\n",
    "- Sigmoid function"
   ]
  },
  {
   "attachments": {},
   "cell_type": "markdown",
   "id": "3e268ec2-4bc8-420a-aed4-de70d4f7a687",
   "metadata": {},
   "source": [
    "- Training Sets -> data used to train models\n",
    "    - x = \"input\" variable feature\n",
    "    - y = \"output\"/\"target\" variable\n",
    "    - m = number of training examples\n",
    "    - (x, y) = single training examples\n",
    "    - (x^(i),y^(i)) = i(th) training example"
   ]
  },
  {
   "attachments": {},
   "cell_type": "markdown",
   "id": "03a66a31-1e27-4c8e-a7df-4d36ca1ae850",
   "metadata": {},
   "source": [
    "- Cost Function Formula\n",
    "- Cost Function Intuition\n",
    "    - These two will require rewatching some videos and re-reading some concepts.<br>It's just a lot of information to absorb."
   ]
  },
  {
   "cell_type": "markdown",
   "id": "94971001-d498-4bdf-bd35-54de267c1422",
   "metadata": {},
   "source": [
    "  - Demand Prediction"
   ]
  },
  {
   "cell_type": "code",
   "execution_count": null,
   "id": "8d66ac20-2a69-4a3c-a905-d9b3d1a9f3d7",
   "metadata": {},
   "outputs": [],
   "source": []
  }
 ],
 "metadata": {
  "kernelspec": {
   "display_name": "Python 3 (ipykernel)",
   "language": "python",
   "name": "python3"
  },
  "language_info": {
   "codemirror_mode": {
    "name": "ipython",
    "version": 3
   },
   "file_extension": ".py",
   "mimetype": "text/x-python",
   "name": "python",
   "nbconvert_exporter": "python",
   "pygments_lexer": "ipython3",
   "version": "3.10.8"
  }
 },
 "nbformat": 4,
 "nbformat_minor": 5
}
